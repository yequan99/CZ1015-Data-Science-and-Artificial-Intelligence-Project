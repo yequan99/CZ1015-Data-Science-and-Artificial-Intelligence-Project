{
 "cells": [
  {
   "cell_type": "code",
   "execution_count": 1,
   "metadata": {},
   "outputs": [],
   "source": [
    "%run 1_Data_Cleaning.ipynb"
   ]
  },
  {
   "cell_type": "markdown",
   "metadata": {},
   "source": [
    "## Key Insights "
   ]
  },
  {
   "cell_type": "markdown",
   "metadata": {},
   "source": [
    "### 1. Top 10 Item Categories"
   ]
  },
  {
   "cell_type": "code",
   "execution_count": 2,
   "metadata": {},
   "outputs": [],
   "source": [
    "Category_Trend_2016 = clean_df[clean_df[\"PurchasedYear\"] == 2016]\n",
    "Category_Trend_2016 = pd.DataFrame(Category_Trend_2016[[\"product_category_name_english\", \"PurchasedYear\"]])\n",
    "Category_Trend_2017 = clean_df[clean_df[\"PurchasedYear\"] == 2017]\n",
    "Category_Trend_2017 = pd.DataFrame(Category_Trend_2017[[\"product_category_name_english\", \"PurchasedYear\"]])\n",
    "Category_Trend_2018 = clean_df[clean_df[\"PurchasedYear\"] == 2018]\n",
    "Category_Trend_2018 = pd.DataFrame(Category_Trend_2018[[\"product_category_name_english\", \"PurchasedYear\"]])"
   ]
  },
  {
   "cell_type": "code",
   "execution_count": 3,
   "metadata": {},
   "outputs": [
    {
     "data": {
      "text/html": [
       "<div>\n",
       "<style scoped>\n",
       "    .dataframe tbody tr th:only-of-type {\n",
       "        vertical-align: middle;\n",
       "    }\n",
       "\n",
       "    .dataframe tbody tr th {\n",
       "        vertical-align: top;\n",
       "    }\n",
       "\n",
       "    .dataframe thead th {\n",
       "        text-align: right;\n",
       "    }\n",
       "</style>\n",
       "<table border=\"1\" class=\"dataframe\">\n",
       "  <thead>\n",
       "    <tr style=\"text-align: right;\">\n",
       "      <th></th>\n",
       "      <th>product_category_name_english</th>\n",
       "      <th>PurchasedYear</th>\n",
       "    </tr>\n",
       "  </thead>\n",
       "  <tbody>\n",
       "    <tr>\n",
       "      <td>18</td>\n",
       "      <td>furniture_decor</td>\n",
       "      <td>74</td>\n",
       "    </tr>\n",
       "    <tr>\n",
       "      <td>20</td>\n",
       "      <td>health_beauty</td>\n",
       "      <td>51</td>\n",
       "    </tr>\n",
       "    <tr>\n",
       "      <td>25</td>\n",
       "      <td>perfumery</td>\n",
       "      <td>33</td>\n",
       "    </tr>\n",
       "    <tr>\n",
       "      <td>29</td>\n",
       "      <td>toys</td>\n",
       "      <td>27</td>\n",
       "    </tr>\n",
       "    <tr>\n",
       "      <td>7</td>\n",
       "      <td>computers_accessories</td>\n",
       "      <td>21</td>\n",
       "    </tr>\n",
       "    <tr>\n",
       "      <td>27</td>\n",
       "      <td>sports_leisure</td>\n",
       "      <td>19</td>\n",
       "    </tr>\n",
       "    <tr>\n",
       "      <td>3</td>\n",
       "      <td>baby</td>\n",
       "      <td>14</td>\n",
       "    </tr>\n",
       "    <tr>\n",
       "      <td>23</td>\n",
       "      <td>market_place</td>\n",
       "      <td>13</td>\n",
       "    </tr>\n",
       "    <tr>\n",
       "      <td>2</td>\n",
       "      <td>auto</td>\n",
       "      <td>12</td>\n",
       "    </tr>\n",
       "    <tr>\n",
       "      <td>21</td>\n",
       "      <td>housewares</td>\n",
       "      <td>12</td>\n",
       "    </tr>\n",
       "  </tbody>\n",
       "</table>\n",
       "</div>"
      ],
      "text/plain": [
       "   product_category_name_english  PurchasedYear\n",
       "18               furniture_decor             74\n",
       "20                 health_beauty             51\n",
       "25                     perfumery             33\n",
       "29                          toys             27\n",
       "7          computers_accessories             21\n",
       "27                sports_leisure             19\n",
       "3                           baby             14\n",
       "23                  market_place             13\n",
       "2                           auto             12\n",
       "21                    housewares             12"
      ]
     },
     "execution_count": 3,
     "metadata": {},
     "output_type": "execute_result"
    }
   ],
   "source": [
    "Category_Trend_2016 = Category_Trend_2016.groupby('product_category_name_english', as_index = False).count()\n",
    "Category_Trend_2016 = Category_Trend_2016.sort_values(by = ['PurchasedYear'], ascending = False).head(10)\n",
    "Category_Trend_2016"
   ]
  },
  {
   "cell_type": "code",
   "execution_count": 4,
   "metadata": {},
   "outputs": [
    {
     "data": {
      "image/png": "[encoded data removed]",
      "text/plain": [
       "<Figure size 432x288 with 1 Axes>"
      ]
     },
     "metadata": {
      "needs_background": "light"
     },
     "output_type": "display_data"
    }
   ],
   "source": [
    "fig = plt.figure()\n",
    "ax = fig.add_axes([0,0,1,1])\n",
    "cat = ['furniture_decor','health_beauty','perfumery','toys','computers_accessories', 'sports_leisure', 'baby', 'market_place', 'auto', 'housewares']\n",
    "count = [74,51,33,27,21,19,14,13,12,12]\n",
    "ax.bar(cat,count)\n",
    "ax.set_xticklabels(cat, rotation = 45,  ha='right')\n",
    "plt.xlabel('Product Category', fontsize=18)\n",
    "plt.ylabel('Count', fontsize=18)\n",
    "plt.show()"
   ]
  },
  {
   "cell_type": "code",
   "execution_count": 5,
   "metadata": {},
   "outputs": [
    {
     "data": {
      "text/html": [
       "<div>\n",
       "<style scoped>\n",
       "    .dataframe tbody tr th:only-of-type {\n",
       "        vertical-align: middle;\n",
       "    }\n",
       "\n",
       "    .dataframe tbody tr th {\n",
       "        vertical-align: top;\n",
       "    }\n",
       "\n",
       "    .dataframe thead th {\n",
       "        text-align: right;\n",
       "    }\n",
       "</style>\n",
       "<table border=\"1\" class=\"dataframe\">\n",
       "  <thead>\n",
       "    <tr style=\"text-align: right;\">\n",
       "      <th></th>\n",
       "      <th>product_category_name_english</th>\n",
       "      <th>PurchasedYear</th>\n",
       "    </tr>\n",
       "  </thead>\n",
       "  <tbody>\n",
       "    <tr>\n",
       "      <td>7</td>\n",
       "      <td>bed_bath_table</td>\n",
       "      <td>5343</td>\n",
       "    </tr>\n",
       "    <tr>\n",
       "      <td>39</td>\n",
       "      <td>furniture_decor</td>\n",
       "      <td>4201</td>\n",
       "    </tr>\n",
       "    <tr>\n",
       "      <td>65</td>\n",
       "      <td>sports_leisure</td>\n",
       "      <td>4140</td>\n",
       "    </tr>\n",
       "    <tr>\n",
       "      <td>43</td>\n",
       "      <td>health_beauty</td>\n",
       "      <td>3709</td>\n",
       "    </tr>\n",
       "    <tr>\n",
       "      <td>15</td>\n",
       "      <td>computers_accessories</td>\n",
       "      <td>3116</td>\n",
       "    </tr>\n",
       "    <tr>\n",
       "      <td>49</td>\n",
       "      <td>housewares</td>\n",
       "      <td>2919</td>\n",
       "    </tr>\n",
       "    <tr>\n",
       "      <td>69</td>\n",
       "      <td>toys</td>\n",
       "      <td>2607</td>\n",
       "    </tr>\n",
       "    <tr>\n",
       "      <td>42</td>\n",
       "      <td>garden_tools</td>\n",
       "      <td>2470</td>\n",
       "    </tr>\n",
       "    <tr>\n",
       "      <td>20</td>\n",
       "      <td>cool_stuff</td>\n",
       "      <td>2322</td>\n",
       "    </tr>\n",
       "    <tr>\n",
       "      <td>70</td>\n",
       "      <td>watches_gifts</td>\n",
       "      <td>2288</td>\n",
       "    </tr>\n",
       "  </tbody>\n",
       "</table>\n",
       "</div>"
      ],
      "text/plain": [
       "   product_category_name_english  PurchasedYear\n",
       "7                 bed_bath_table           5343\n",
       "39               furniture_decor           4201\n",
       "65                sports_leisure           4140\n",
       "43                 health_beauty           3709\n",
       "15         computers_accessories           3116\n",
       "49                    housewares           2919\n",
       "69                          toys           2607\n",
       "42                  garden_tools           2470\n",
       "20                    cool_stuff           2322\n",
       "70                 watches_gifts           2288"
      ]
     },
     "execution_count": 5,
     "metadata": {},
     "output_type": "execute_result"
    }
   ],
   "source": [
    "Category_Trend_2017 = Category_Trend_2017.groupby('product_category_name_english', as_index = False).count()\n",
    "Category_Trend_2017 = Category_Trend_2017.sort_values(by = ['PurchasedYear'], ascending = False).head(10)\n",
    "Category_Trend_2017"
   ]
  },
  {
   "cell_type": "code",
   "execution_count": 6,
   "metadata": {},
   "outputs": [
    {
     "data": {
      "image/png": "[encoded data removed]",
      "text/plain": [
       "<Figure size 432x288 with 1 Axes>"
      ]
     },
     "metadata": {
      "needs_background": "light"
     },
     "output_type": "display_data"
    }
   ],
   "source": [
    "fig = plt.figure()\n",
    "ax = fig.add_axes([0,0,1,1])\n",
    "cat = ['bed_bath_table','furniture_decor','sports_leisure','health_beauty','computers_accessories', 'housewares', 'toys', 'garden_tools', 'cool_stuff', 'watches_gifts']\n",
    "count = [5343,4201,4140,3709,3116,2919,2607,2470,2322,2288]\n",
    "ax.bar(cat,count)\n",
    "ax.set_xticklabels(cat, rotation = 45,  ha='right')\n",
    "plt.xlabel('Product Category', fontsize=18)\n",
    "plt.ylabel('Count', fontsize=18)\n",
    "plt.show()"
   ]
  },
  {
   "cell_type": "code",
   "execution_count": 7,
   "metadata": {},
   "outputs": [
    {
     "data": {
      "text/html": [
       "<div>\n",
       "<style scoped>\n",
       "    .dataframe tbody tr th:only-of-type {\n",
       "        vertical-align: middle;\n",
       "    }\n",
       "\n",
       "    .dataframe tbody tr th {\n",
       "        vertical-align: top;\n",
       "    }\n",
       "\n",
       "    .dataframe thead th {\n",
       "        text-align: right;\n",
       "    }\n",
       "</style>\n",
       "<table border=\"1\" class=\"dataframe\">\n",
       "  <thead>\n",
       "    <tr style=\"text-align: right;\">\n",
       "      <th></th>\n",
       "      <th>product_category_name_english</th>\n",
       "      <th>PurchasedYear</th>\n",
       "    </tr>\n",
       "  </thead>\n",
       "  <tbody>\n",
       "    <tr>\n",
       "      <td>43</td>\n",
       "      <td>health_beauty</td>\n",
       "      <td>5968</td>\n",
       "    </tr>\n",
       "    <tr>\n",
       "      <td>7</td>\n",
       "      <td>bed_bath_table</td>\n",
       "      <td>5921</td>\n",
       "    </tr>\n",
       "    <tr>\n",
       "      <td>15</td>\n",
       "      <td>computers_accessories</td>\n",
       "      <td>4758</td>\n",
       "    </tr>\n",
       "    <tr>\n",
       "      <td>64</td>\n",
       "      <td>sports_leisure</td>\n",
       "      <td>4542</td>\n",
       "    </tr>\n",
       "    <tr>\n",
       "      <td>39</td>\n",
       "      <td>furniture_decor</td>\n",
       "      <td>4141</td>\n",
       "    </tr>\n",
       "    <tr>\n",
       "      <td>49</td>\n",
       "      <td>housewares</td>\n",
       "      <td>4058</td>\n",
       "    </tr>\n",
       "    <tr>\n",
       "      <td>69</td>\n",
       "      <td>watches_gifts</td>\n",
       "      <td>3708</td>\n",
       "    </tr>\n",
       "    <tr>\n",
       "      <td>5</td>\n",
       "      <td>auto</td>\n",
       "      <td>2629</td>\n",
       "    </tr>\n",
       "    <tr>\n",
       "      <td>67</td>\n",
       "      <td>telephony</td>\n",
       "      <td>2338</td>\n",
       "    </tr>\n",
       "    <tr>\n",
       "      <td>42</td>\n",
       "      <td>garden_tools</td>\n",
       "      <td>1886</td>\n",
       "    </tr>\n",
       "  </tbody>\n",
       "</table>\n",
       "</div>"
      ],
      "text/plain": [
       "   product_category_name_english  PurchasedYear\n",
       "43                 health_beauty           5968\n",
       "7                 bed_bath_table           5921\n",
       "15         computers_accessories           4758\n",
       "64                sports_leisure           4542\n",
       "39               furniture_decor           4141\n",
       "49                    housewares           4058\n",
       "69                 watches_gifts           3708\n",
       "5                           auto           2629\n",
       "67                     telephony           2338\n",
       "42                  garden_tools           1886"
      ]
     },
     "execution_count": 7,
     "metadata": {},
     "output_type": "execute_result"
    }
   ],
   "source": [
    "Category_Trend_2018 = Category_Trend_2018.groupby('product_category_name_english', as_index = False).count()\n",
    "Category_Trend_2018 = Category_Trend_2018.sort_values(by = ['PurchasedYear'], ascending = False).head(10)\n",
    "Category_Trend_2018"
   ]
  },
  {
   "cell_type": "code",
   "execution_count": 8,
   "metadata": {},
   "outputs": [
    {
     "data": {
      "image/png": "[encoded data removed]",
      "text/plain": [
       "<Figure size 432x288 with 1 Axes>"
      ]
     },
     "metadata": {
      "needs_background": "light"
     },
     "output_type": "display_data"
    }
   ],
   "source": [
    "fig = plt.figure()\n",
    "ax = fig.add_axes([0,0,1,1])\n",
    "cat = ['health_beauty','bed_bath_table','computers_accessories','sports_leisure','furniture_decor', 'housewares', 'watches_gifts', 'auto', 'telephony', 'garden_tools']\n",
    "count = [5968,5921,4758,4542,4141,4058,3708,2629,2338,1886]\n",
    "ax.bar(cat,count)\n",
    "ax.set_xticklabels(cat, rotation = 45,  ha='right')\n",
    "plt.xlabel('Product Category', fontsize=18)\n",
    "plt.ylabel('Count', fontsize=18)\n",
    "plt.show()"
   ]
  },
  {
   "cell_type": "markdown",
   "metadata": {},
   "source": [
    "### 2. Delivery Timing to hit for good review score "
   ]
  },
  {
   "cell_type": "code",
   "execution_count": 9,
   "metadata": {},
   "outputs": [
    {
     "data": {
      "text/html": [
       "<div>\n",
       "<style scoped>\n",
       "    .dataframe tbody tr th:only-of-type {\n",
       "        vertical-align: middle;\n",
       "    }\n",
       "\n",
       "    .dataframe tbody tr th {\n",
       "        vertical-align: top;\n",
       "    }\n",
       "\n",
       "    .dataframe thead th {\n",
       "        text-align: right;\n",
       "    }\n",
       "</style>\n",
       "<table border=\"1\" class=\"dataframe\">\n",
       "  <thead>\n",
       "    <tr style=\"text-align: right;\">\n",
       "      <th></th>\n",
       "      <th>order_id</th>\n",
       "      <th>product_id</th>\n",
       "      <th>customer_id</th>\n",
       "      <th>customer_unique_id</th>\n",
       "      <th>product_category_name_english</th>\n",
       "      <th>product_description_lenght</th>\n",
       "      <th>product_photos_qty</th>\n",
       "      <th>actual_hours</th>\n",
       "      <th>delivery_days</th>\n",
       "      <th>estimated</th>\n",
       "      <th>time_diff</th>\n",
       "      <th>price</th>\n",
       "      <th>freight_value</th>\n",
       "      <th>payment_type</th>\n",
       "      <th>payment_value</th>\n",
       "      <th>payment_installments</th>\n",
       "      <th>PurchasedYear</th>\n",
       "      <th>review_score</th>\n",
       "    </tr>\n",
       "  </thead>\n",
       "  <tbody>\n",
       "    <tr>\n",
       "      <td>0</td>\n",
       "      <td>00010242fe8c5a6d1ba2dd792cb16214</td>\n",
       "      <td>4244733e06e7ecb4970a6e2683c13e61</td>\n",
       "      <td>3ce436f183e68e07877b285a838db11a</td>\n",
       "      <td>871766c5855e863f6eccc05f988b23cb</td>\n",
       "      <td>cool_stuff</td>\n",
       "      <td>598.0</td>\n",
       "      <td>4.0</td>\n",
       "      <td>182.0</td>\n",
       "      <td>7.0</td>\n",
       "      <td>375.0</td>\n",
       "      <td>193.0</td>\n",
       "      <td>58.90</td>\n",
       "      <td>13.29</td>\n",
       "      <td>credit_card</td>\n",
       "      <td>72.19</td>\n",
       "      <td>2.0</td>\n",
       "      <td>2017</td>\n",
       "      <td>5</td>\n",
       "    </tr>\n",
       "    <tr>\n",
       "      <td>1</td>\n",
       "      <td>00018f77f2f0320c557190d7a144bdd3</td>\n",
       "      <td>e5f2d52b802189ee658865ca93d83a8f</td>\n",
       "      <td>f6dd3ec061db4e3987629fe6b26e5cce</td>\n",
       "      <td>eb28e67c4c0b83846050ddfb8a35d051</td>\n",
       "      <td>pet_shop</td>\n",
       "      <td>239.0</td>\n",
       "      <td>2.0</td>\n",
       "      <td>389.0</td>\n",
       "      <td>16.0</td>\n",
       "      <td>445.0</td>\n",
       "      <td>56.0</td>\n",
       "      <td>239.90</td>\n",
       "      <td>19.93</td>\n",
       "      <td>credit_card</td>\n",
       "      <td>259.83</td>\n",
       "      <td>3.0</td>\n",
       "      <td>2017</td>\n",
       "      <td>4</td>\n",
       "    </tr>\n",
       "    <tr>\n",
       "      <td>2</td>\n",
       "      <td>000229ec398224ef6ca0657da4fc703e</td>\n",
       "      <td>c777355d18b72b67abbeef9df44fd0fd</td>\n",
       "      <td>6489ae5e4333f3693df5ad4372dab6d3</td>\n",
       "      <td>3818d81c6709e39d06b2738a8d3a2474</td>\n",
       "      <td>furniture_decor</td>\n",
       "      <td>695.0</td>\n",
       "      <td>2.0</td>\n",
       "      <td>190.0</td>\n",
       "      <td>7.0</td>\n",
       "      <td>513.0</td>\n",
       "      <td>323.0</td>\n",
       "      <td>199.00</td>\n",
       "      <td>17.87</td>\n",
       "      <td>credit_card</td>\n",
       "      <td>216.87</td>\n",
       "      <td>5.0</td>\n",
       "      <td>2018</td>\n",
       "      <td>5</td>\n",
       "    </tr>\n",
       "    <tr>\n",
       "      <td>3</td>\n",
       "      <td>00024acbcdf0a6daa1e931b038114c75</td>\n",
       "      <td>7634da152a4610f1595efa32f14722fc</td>\n",
       "      <td>d4eb9395c8c0431ee92fce09860c5a06</td>\n",
       "      <td>af861d436cfc08b2c2ddefd0ba074622</td>\n",
       "      <td>perfumery</td>\n",
       "      <td>480.0</td>\n",
       "      <td>1.0</td>\n",
       "      <td>147.0</td>\n",
       "      <td>6.0</td>\n",
       "      <td>278.0</td>\n",
       "      <td>131.0</td>\n",
       "      <td>12.99</td>\n",
       "      <td>12.79</td>\n",
       "      <td>credit_card</td>\n",
       "      <td>25.78</td>\n",
       "      <td>2.0</td>\n",
       "      <td>2018</td>\n",
       "      <td>4</td>\n",
       "    </tr>\n",
       "    <tr>\n",
       "      <td>4</td>\n",
       "      <td>00042b26cf59d7ce69dfabb4e55b4fd9</td>\n",
       "      <td>ac6c3623068f30de03045865e4e10089</td>\n",
       "      <td>58dbd0b2d70206bf40e62cd34e84d795</td>\n",
       "      <td>64b576fb70d441e8f1b2d7d446e483c5</td>\n",
       "      <td>garden_tools</td>\n",
       "      <td>409.0</td>\n",
       "      <td>1.0</td>\n",
       "      <td>602.0</td>\n",
       "      <td>25.0</td>\n",
       "      <td>970.0</td>\n",
       "      <td>368.0</td>\n",
       "      <td>199.90</td>\n",
       "      <td>18.14</td>\n",
       "      <td>credit_card</td>\n",
       "      <td>218.04</td>\n",
       "      <td>3.0</td>\n",
       "      <td>2017</td>\n",
       "      <td>5</td>\n",
       "    </tr>\n",
       "    <tr>\n",
       "      <td>...</td>\n",
       "      <td>...</td>\n",
       "      <td>...</td>\n",
       "      <td>...</td>\n",
       "      <td>...</td>\n",
       "      <td>...</td>\n",
       "      <td>...</td>\n",
       "      <td>...</td>\n",
       "      <td>...</td>\n",
       "      <td>...</td>\n",
       "      <td>...</td>\n",
       "      <td>...</td>\n",
       "      <td>...</td>\n",
       "      <td>...</td>\n",
       "      <td>...</td>\n",
       "      <td>...</td>\n",
       "      <td>...</td>\n",
       "      <td>...</td>\n",
       "      <td>...</td>\n",
       "    </tr>\n",
       "    <tr>\n",
       "      <td>113317</td>\n",
       "      <td>fffc94f6ce00a00581880bf54a75a037</td>\n",
       "      <td>4aa6014eceb682077f9dc4bffebc05b0</td>\n",
       "      <td>b51593916b4b8e0d6f66f2ae24f2673d</td>\n",
       "      <td>0c9aeda10a71f369396d0c04dce13a64</td>\n",
       "      <td>housewares</td>\n",
       "      <td>1002.0</td>\n",
       "      <td>3.0</td>\n",
       "      <td>416.0</td>\n",
       "      <td>17.0</td>\n",
       "      <td>586.0</td>\n",
       "      <td>170.0</td>\n",
       "      <td>299.99</td>\n",
       "      <td>43.41</td>\n",
       "      <td>boleto</td>\n",
       "      <td>343.40</td>\n",
       "      <td>1.0</td>\n",
       "      <td>2018</td>\n",
       "      <td>5</td>\n",
       "    </tr>\n",
       "    <tr>\n",
       "      <td>113318</td>\n",
       "      <td>fffcd46ef2263f404302a634eb57f7eb</td>\n",
       "      <td>32e07fd915822b0765e448c4dd74c828</td>\n",
       "      <td>84c5d4fbaf120aae381fad077416eaa0</td>\n",
       "      <td>0da9fe112eae0c74d3ba1fe16de0988b</td>\n",
       "      <td>computers_accessories</td>\n",
       "      <td>232.0</td>\n",
       "      <td>1.0</td>\n",
       "      <td>226.0</td>\n",
       "      <td>9.0</td>\n",
       "      <td>421.0</td>\n",
       "      <td>195.0</td>\n",
       "      <td>350.00</td>\n",
       "      <td>36.53</td>\n",
       "      <td>boleto</td>\n",
       "      <td>386.53</td>\n",
       "      <td>1.0</td>\n",
       "      <td>2018</td>\n",
       "      <td>5</td>\n",
       "    </tr>\n",
       "    <tr>\n",
       "      <td>113319</td>\n",
       "      <td>fffce4705a9662cd70adb13d4a31832d</td>\n",
       "      <td>72a30483855e2eafc67aee5dc2560482</td>\n",
       "      <td>29309aa813182aaddc9b259e31b870e6</td>\n",
       "      <td>cd79b407828f02fdbba457111c38e4c4</td>\n",
       "      <td>sports_leisure</td>\n",
       "      <td>869.0</td>\n",
       "      <td>1.0</td>\n",
       "      <td>115.0</td>\n",
       "      <td>4.0</td>\n",
       "      <td>414.0</td>\n",
       "      <td>299.0</td>\n",
       "      <td>99.90</td>\n",
       "      <td>16.95</td>\n",
       "      <td>credit_card</td>\n",
       "      <td>116.85</td>\n",
       "      <td>3.0</td>\n",
       "      <td>2017</td>\n",
       "      <td>5</td>\n",
       "    </tr>\n",
       "    <tr>\n",
       "      <td>113320</td>\n",
       "      <td>fffe18544ffabc95dfada21779c9644f</td>\n",
       "      <td>9c422a519119dcad7575db5af1ba540e</td>\n",
       "      <td>b5e6afd5a41800fdf401e0272ca74655</td>\n",
       "      <td>eb803377c9315b564bdedad672039306</td>\n",
       "      <td>computers_accessories</td>\n",
       "      <td>1306.0</td>\n",
       "      <td>1.0</td>\n",
       "      <td>46.0</td>\n",
       "      <td>1.0</td>\n",
       "      <td>240.0</td>\n",
       "      <td>194.0</td>\n",
       "      <td>55.99</td>\n",
       "      <td>8.72</td>\n",
       "      <td>credit_card</td>\n",
       "      <td>64.71</td>\n",
       "      <td>3.0</td>\n",
       "      <td>2017</td>\n",
       "      <td>5</td>\n",
       "    </tr>\n",
       "    <tr>\n",
       "      <td>113321</td>\n",
       "      <td>fffe41c64501cc87c801fd61db3f6244</td>\n",
       "      <td>350688d9dc1e75ff97be326363655e01</td>\n",
       "      <td>96d649da0cc4ff33bb408b199d4c7dcf</td>\n",
       "      <td>cd76a00d8e3ca5e6ab9ed9ecb6667ac4</td>\n",
       "      <td>bed_bath_table</td>\n",
       "      <td>511.0</td>\n",
       "      <td>1.0</td>\n",
       "      <td>120.0</td>\n",
       "      <td>5.0</td>\n",
       "      <td>439.0</td>\n",
       "      <td>319.0</td>\n",
       "      <td>43.00</td>\n",
       "      <td>12.79</td>\n",
       "      <td>credit_card</td>\n",
       "      <td>55.79</td>\n",
       "      <td>1.0</td>\n",
       "      <td>2018</td>\n",
       "      <td>5</td>\n",
       "    </tr>\n",
       "  </tbody>\n",
       "</table>\n",
       "<p>113322 rows × 18 columns</p>\n",
       "</div>"
      ],
      "text/plain": [
       "                                order_id                        product_id  \\\n",
       "0       00010242fe8c5a6d1ba2dd792cb16214  4244733e06e7ecb4970a6e2683c13e61   \n",
       "1       00018f77f2f0320c557190d7a144bdd3  e5f2d52b802189ee658865ca93d83a8f   \n",
       "2       000229ec398224ef6ca0657da4fc703e  c777355d18b72b67abbeef9df44fd0fd   \n",
       "3       00024acbcdf0a6daa1e931b038114c75  7634da152a4610f1595efa32f14722fc   \n",
       "4       00042b26cf59d7ce69dfabb4e55b4fd9  ac6c3623068f30de03045865e4e10089   \n",
       "...                                  ...                               ...   \n",
       "113317  fffc94f6ce00a00581880bf54a75a037  4aa6014eceb682077f9dc4bffebc05b0   \n",
       "113318  fffcd46ef2263f404302a634eb57f7eb  32e07fd915822b0765e448c4dd74c828   \n",
       "113319  fffce4705a9662cd70adb13d4a31832d  72a30483855e2eafc67aee5dc2560482   \n",
       "113320  fffe18544ffabc95dfada21779c9644f  9c422a519119dcad7575db5af1ba540e   \n",
       "113321  fffe41c64501cc87c801fd61db3f6244  350688d9dc1e75ff97be326363655e01   \n",
       "\n",
       "                             customer_id                customer_unique_id  \\\n",
       "0       3ce436f183e68e07877b285a838db11a  871766c5855e863f6eccc05f988b23cb   \n",
       "1       f6dd3ec061db4e3987629fe6b26e5cce  eb28e67c4c0b83846050ddfb8a35d051   \n",
       "2       6489ae5e4333f3693df5ad4372dab6d3  3818d81c6709e39d06b2738a8d3a2474   \n",
       "3       d4eb9395c8c0431ee92fce09860c5a06  af861d436cfc08b2c2ddefd0ba074622   \n",
       "4       58dbd0b2d70206bf40e62cd34e84d795  64b576fb70d441e8f1b2d7d446e483c5   \n",
       "...                                  ...                               ...   \n",
       "113317  b51593916b4b8e0d6f66f2ae24f2673d  0c9aeda10a71f369396d0c04dce13a64   \n",
       "113318  84c5d4fbaf120aae381fad077416eaa0  0da9fe112eae0c74d3ba1fe16de0988b   \n",
       "113319  29309aa813182aaddc9b259e31b870e6  cd79b407828f02fdbba457111c38e4c4   \n",
       "113320  b5e6afd5a41800fdf401e0272ca74655  eb803377c9315b564bdedad672039306   \n",
       "113321  96d649da0cc4ff33bb408b199d4c7dcf  cd76a00d8e3ca5e6ab9ed9ecb6667ac4   \n",
       "\n",
       "       product_category_name_english  product_description_lenght  \\\n",
       "0                         cool_stuff                       598.0   \n",
       "1                           pet_shop                       239.0   \n",
       "2                    furniture_decor                       695.0   \n",
       "3                          perfumery                       480.0   \n",
       "4                       garden_tools                       409.0   \n",
       "...                              ...                         ...   \n",
       "113317                    housewares                      1002.0   \n",
       "113318         computers_accessories                       232.0   \n",
       "113319                sports_leisure                       869.0   \n",
       "113320         computers_accessories                      1306.0   \n",
       "113321                bed_bath_table                       511.0   \n",
       "\n",
       "        product_photos_qty  actual_hours  delivery_days  estimated  time_diff  \\\n",
       "0                      4.0         182.0            7.0      375.0      193.0   \n",
       "1                      2.0         389.0           16.0      445.0       56.0   \n",
       "2                      2.0         190.0            7.0      513.0      323.0   \n",
       "3                      1.0         147.0            6.0      278.0      131.0   \n",
       "4                      1.0         602.0           25.0      970.0      368.0   \n",
       "...                    ...           ...            ...        ...        ...   \n",
       "113317                 3.0         416.0           17.0      586.0      170.0   \n",
       "113318                 1.0         226.0            9.0      421.0      195.0   \n",
       "113319                 1.0         115.0            4.0      414.0      299.0   \n",
       "113320                 1.0          46.0            1.0      240.0      194.0   \n",
       "113321                 1.0         120.0            5.0      439.0      319.0   \n",
       "\n",
       "         price  freight_value payment_type  payment_value  \\\n",
       "0        58.90          13.29  credit_card          72.19   \n",
       "1       239.90          19.93  credit_card         259.83   \n",
       "2       199.00          17.87  credit_card         216.87   \n",
       "3        12.99          12.79  credit_card          25.78   \n",
       "4       199.90          18.14  credit_card         218.04   \n",
       "...        ...            ...          ...            ...   \n",
       "113317  299.99          43.41       boleto         343.40   \n",
       "113318  350.00          36.53       boleto         386.53   \n",
       "113319   99.90          16.95  credit_card         116.85   \n",
       "113320   55.99           8.72  credit_card          64.71   \n",
       "113321   43.00          12.79  credit_card          55.79   \n",
       "\n",
       "        payment_installments  PurchasedYear  review_score  \n",
       "0                        2.0           2017             5  \n",
       "1                        3.0           2017             4  \n",
       "2                        5.0           2018             5  \n",
       "3                        2.0           2018             4  \n",
       "4                        3.0           2017             5  \n",
       "...                      ...            ...           ...  \n",
       "113317                   1.0           2018             5  \n",
       "113318                   1.0           2018             5  \n",
       "113319                   3.0           2017             5  \n",
       "113320                   3.0           2017             5  \n",
       "113321                   1.0           2018             5  \n",
       "\n",
       "[113322 rows x 18 columns]"
      ]
     },
     "execution_count": 9,
     "metadata": {},
     "output_type": "execute_result"
    }
   ],
   "source": [
    "clean_df"
   ]
  },
  {
   "cell_type": "code",
   "execution_count": 10,
   "metadata": {},
   "outputs": [
    {
     "data": {
      "text/plain": [
       "<matplotlib.axes._subplots.AxesSubplot at 0x290c4b02188>"
      ]
     },
     "execution_count": 10,
     "metadata": {},
     "output_type": "execute_result"
    },
    {
     "data": {
      "image/png": "[encoded data removed]",
      "text/plain": [
       "<Figure size 1152x576 with 1 Axes>"
      ]
     },
     "metadata": {
      "needs_background": "light"
     },
     "output_type": "display_data"
    }
   ],
   "source": [
    "delivery = clean_df[['delivery_days', 'review_score']]\n",
    "f = plt.figure(figsize=(16, 8))\n",
    "sb.boxplot(x = 'review_score', y = 'delivery_days', data = delivery[delivery.delivery_days <= 100])"
   ]
  },
  {
   "cell_type": "markdown",
   "metadata": {},
   "source": [
    "### 3. Highest customer activity"
   ]
  },
  {
   "cell_type": "code",
   "execution_count": 12,
   "metadata": {},
   "outputs": [
    {
     "name": "stderr",
     "output_type": "stream",
     "text": [
      "C:\\Users\\yequa\\Anaconda3\\lib\\site-packages\\ipykernel_launcher.py:2: SettingWithCopyWarning: \n",
      "A value is trying to be set on a copy of a slice from a DataFrame.\n",
      "Try using .loc[row_indexer,col_indexer] = value instead\n",
      "\n",
      "See the caveats in the documentation: http://pandas.pydata.org/pandas-docs/stable/user_guide/indexing.html#returning-a-view-versus-a-copy\n",
      "  \n",
      "C:\\Users\\yequa\\Anaconda3\\lib\\site-packages\\ipykernel_launcher.py:3: SettingWithCopyWarning: \n",
      "A value is trying to be set on a copy of a slice from a DataFrame.\n",
      "Try using .loc[row_indexer,col_indexer] = value instead\n",
      "\n",
      "See the caveats in the documentation: http://pandas.pydata.org/pandas-docs/stable/user_guide/indexing.html#returning-a-view-versus-a-copy\n",
      "  This is separate from the ipykernel package so we can avoid doing imports until\n",
      "C:\\Users\\yequa\\Anaconda3\\lib\\site-packages\\ipykernel_launcher.py:4: SettingWithCopyWarning: \n",
      "A value is trying to be set on a copy of a slice from a DataFrame.\n",
      "Try using .loc[row_indexer,col_indexer] = value instead\n",
      "\n",
      "See the caveats in the documentation: http://pandas.pydata.org/pandas-docs/stable/user_guide/indexing.html#returning-a-view-versus-a-copy\n",
      "  after removing the cwd from sys.path.\n",
      "C:\\Users\\yequa\\Anaconda3\\lib\\site-packages\\ipykernel_launcher.py:5: SettingWithCopyWarning: \n",
      "A value is trying to be set on a copy of a slice from a DataFrame.\n",
      "Try using .loc[row_indexer,col_indexer] = value instead\n",
      "\n",
      "See the caveats in the documentation: http://pandas.pydata.org/pandas-docs/stable/user_guide/indexing.html#returning-a-view-versus-a-copy\n",
      "  \"\"\"\n"
     ]
    }
   ],
   "source": [
    "timing = order_csv[['order_id','order_time']]\n",
    "timing['date'] = [d.date() for d in timing['order_time']]\n",
    "timing['time'] = [d.time() for d in timing['order_time']]\n",
    "timing['hour'] = timing['order_time'].dt.round('H').dt.hour\n",
    "timing['day_of_week'] = timing['order_time'].dt.weekday_name\n",
    "hours = timing['hour']"
   ]
  },
  {
   "cell_type": "code",
   "execution_count": 13,
   "metadata": {},
   "outputs": [
    {
     "data": {
      "text/plain": [
       "<matplotlib.axes._subplots.AxesSubplot at 0x290cd8d1c48>"
      ]
     },
     "execution_count": 13,
     "metadata": {},
     "output_type": "execute_result"
    },
    {
     "data": {
      "image/png": "[encoded data removed]",
      "text/plain": [
       "<Figure size 432x288 with 1 Axes>"
      ]
     },
     "metadata": {
      "needs_background": "light"
     },
     "output_type": "display_data"
    }
   ],
   "source": [
    "sb.histplot(data = hours)"
   ]
  },
  {
   "cell_type": "code",
   "execution_count": 14,
   "metadata": {},
   "outputs": [
    {
     "data": {
      "text/plain": [
       "<matplotlib.axes._subplots.AxesSubplot at 0x290cd932588>"
      ]
     },
     "execution_count": 14,
     "metadata": {},
     "output_type": "execute_result"
    },
    {
     "data": {
      "image/png": "[encoded data removed]",
      "text/plain": [
       "<Figure size 1152x576 with 1 Axes>"
      ]
     },
     "metadata": {
      "needs_background": "light"
     },
     "output_type": "display_data"
    }
   ],
   "source": [
    "f = plt.figure(figsize=(16, 8))\n",
    "sb.histplot(data = timing['day_of_week'])"
   ]
  },
  {
   "cell_type": "code",
   "execution_count": null,
   "metadata": {},
   "outputs": [],
   "source": []
  }
 ],
 "metadata": {
  "kernelspec": {
   "display_name": "Python 3",
   "language": "python",
   "name": "python3"
  },
  "language_info": {
   "codemirror_mode": {
    "name": "ipython",
    "version": 3
   },
   "file_extension": ".py",
   "mimetype": "text/x-python",
   "name": "python",
   "nbconvert_exporter": "python",
   "pygments_lexer": "ipython3",
   "version": "3.7.4"
  }
 },
 "nbformat": 4,
 "nbformat_minor": 2
}
